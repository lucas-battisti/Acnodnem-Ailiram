{
 "cells": [
  {
   "cell_type": "code",
   "execution_count": null,
   "metadata": {},
   "outputs": [],
   "source": [
    "%pip install lightning\n",
    "%pip install optuna\n",
    "%load_ext tensorboard"
   ]
  },
  {
   "cell_type": "code",
   "execution_count": 1,
   "metadata": {},
   "outputs": [
    {
     "name": "stdout",
     "output_type": "stream",
     "text": [
      "/home/battisti/Documentos/Acnodnem-Ailiram/Acnodnem-Ailiram/CNN1D_no\n",
      "/home/battisti/Documentos/Acnodnem-Ailiram/Acnodnem-Ailiram\n"
     ]
    }
   ],
   "source": [
    "dir = 'CNN1D_no' #CHANGE DIR\n",
    "\n",
    "import os\n",
    "os.chdir('/home/battisti/Documentos/Acnodnem-Ailiram/Acnodnem-Ailiram')\n",
    "\n",
    "import torch.multiprocessing\n",
    "torch.multiprocessing.set_sharing_strategy('file_system')"
   ]
  },
  {
   "cell_type": "code",
   "execution_count": 6,
   "metadata": {},
   "outputs": [
    {
     "name": "stdout",
     "output_type": "stream",
     "text": [
      "Cloning into 'custom-pytorch-lightning-module'...\n",
      "remote: Enumerating objects: 25, done.\u001b[K\n",
      "remote: Counting objects: 100% (25/25), done.\u001b[K\n",
      "remote: Compressing objects: 100% (17/17), done.\u001b[K\n",
      "remote: Total 25 (delta 11), reused 14 (delta 6), pack-reused 0\u001b[K\n",
      "Unpacking objects: 100% (25/25), 20.01 KiB | 931.00 KiB/s, done.\n",
      "Cloning into 'pytorch-blocks'...\n",
      "remote: Enumerating objects: 17, done.\u001b[K\n",
      "remote: Counting objects: 100% (17/17), done.\u001b[K\n",
      "remote: Compressing objects: 100% (12/12), done.\u001b[K\n",
      "remote: Total 17 (delta 7), reused 10 (delta 4), pack-reused 0\u001b[K\n",
      "Unpacking objects: 100% (17/17), 18.58 KiB | 951.00 KiB/s, done.\n"
     ]
    }
   ],
   "source": [
    "!git clone https://github.com/lucas-battisti/custom-pytorch-lightning-module.git\n",
    "!mv \"custom-pytorch-lightning-module/modules.py\" \"modules.py\"\n",
    "!rm -rf \"custom-pytorch-lightning-module\"\n",
    "\n",
    "\n",
    "\n",
    "!git clone https://github.com/lucas-battisti/pytorch-blocks.git\n",
    "!mv \"pytorch-blocks/blocks.py\" \"blocks.py\"\n",
    "!rm -rf \"pytorch-blocks\""
   ]
  },
  {
   "cell_type": "code",
   "execution_count": 2,
   "metadata": {},
   "outputs": [],
   "source": [
    "import lightning as L\n",
    "\n",
    "from modules import RegressionModule as Reg\n",
    "from blocks import LinearBlock, Conv1dBlock\n",
    "from data import Custom_DataModule, CNN1D_Dataset\n",
    "\n",
    "import torch\n",
    "from torch import nn\n",
    "from torch.nn import MaxPool1d, AvgPool1d\n",
    "from torch.optim.lr_scheduler import ReduceLROnPlateau\n",
    "\n",
    "import optuna\n",
    "from optuna.integration import PyTorchLightningPruningCallback\n",
    "\n",
    "import pandas as pd\n",
    "from math import floor\n",
    "\n",
    "import plotly"
   ]
  },
  {
   "cell_type": "code",
   "execution_count": 3,
   "metadata": {},
   "outputs": [],
   "source": [
    "x = pd.read_csv(\"data/Dataframe_f.csv\", index_col=0).astype('float32')\n",
    "e = pd.read_csv(\"data/Dataframe_e_f.csv\", index_col=0).astype('float32')\n",
    "z = pd.read_csv(\"data/Dataframe_z.csv\", index_col=0).astype('float32')"
   ]
  },
  {
   "cell_type": "code",
   "execution_count": 9,
   "metadata": {},
   "outputs": [
    {
     "name": "stderr",
     "output_type": "stream",
     "text": [
      "GPU available: False, used: False\n",
      "TPU available: False, using: 0 TPU cores\n",
      "IPU available: False, using: 0 IPUs\n",
      "HPU available: False, using: 0 HPUs\n",
      "\n",
      "  | Name           | Type       | Params\n",
      "----------------------------------------------\n",
      "0 | pytorch_module | Sequential | 53.1 K\n",
      "1 | loss_func      | MSELoss    | 0     \n",
      "----------------------------------------------\n",
      "53.1 K    Trainable params\n",
      "0         Non-trainable params\n",
      "53.1 K    Total params\n",
      "0.212     Total estimated model params size (MB)\n",
      "`Trainer.fit` stopped: `max_epochs=5` reached.\n"
     ]
    },
    {
     "data": {
      "text/plain": [
       "{'train_loss': tensor(0.4067), 'val_loss': tensor(0.3727)}"
      ]
     },
     "execution_count": 9,
     "metadata": {},
     "output_type": "execute_result"
    }
   ],
   "source": [
    "C_IN = 1\n",
    "L_IN = 16\n",
    "NUM_EPOCH = 5\n",
    "\n",
    "dm0 = Custom_DataModule(xez = (x, e, z),\n",
    "                       dataset_class=CNN1D_Dataset,\n",
    "                       version='no', norm=False,\n",
    "                       batch_size=200, num_workers=1)\n",
    "    \n",
    "convblock1 = Conv1dBlock(in_channels=C_IN, out_channels=32,\n",
    "                         kernel_size=3,\n",
    "                         activation_function=nn.ReLU,\n",
    "                         pooling_layer=MaxPool1d,\n",
    "                         pooling_layer_args={\"kernel_size\": 2})\n",
    "    \n",
    "L_convblock1 = convblock1.output_shape(L_IN)['L_out']\n",
    "    \n",
    "convblock2 = Conv1dBlock(in_channels=32, out_channels=64,\n",
    "                         kernel_size=2,\n",
    "                         activation_function=nn.ReLU,\n",
    "                         pooling_layer=MaxPool1d,\n",
    "                         pooling_layer_args={\"kernel_size\": 2})\n",
    "\n",
    "L_convblock2 = convblock2.output_shape(L_convblock1)['L_out']\n",
    "    \n",
    "dense_input = L_convblock2*64\n",
    "dense_intermed = int(dense_input*0.75)\n",
    "\n",
    "l1 = LinearBlock(in_features=dense_input, out_features=dense_intermed,\n",
    "                 activation_function=nn.ReLU)\n",
    "    \n",
    "l2 = LinearBlock(in_features=dense_intermed, out_features=dense_intermed,\n",
    "                 activation_function=nn.ReLU)\n",
    "    \n",
    "l3 = LinearBlock(in_features=dense_intermed, out_features=1)\n",
    "    \n",
    "sequential = nn.Sequential(convblock1,\n",
    "                           convblock2,\n",
    "                           nn.Flatten(start_dim=1, end_dim=2),\n",
    "                           l1,\n",
    "                           l2,\n",
    "                           l3)\n",
    "\n",
    "    \n",
    "m0 = Reg(pytorch_module=sequential,\n",
    "        loss_func=nn.MSELoss,\n",
    "        optimizer=torch.optim.Adam, optimizer_args={\"lr\": 1e-3},\n",
    "        tb_dir = dir + '/0')\n",
    "\n",
    "\n",
    "trainer = L.Trainer(max_epochs=NUM_EPOCH,\n",
    "                        enable_progress_bar = False, log_every_n_steps=1,\n",
    "                        accelerator=\"auto\", devices=1,\n",
    "                        logger = True)\n",
    "\n",
    "trainer.fit(m0, datamodule=dm0)\n",
    "#trainer.test(m0, datamodule=dm0)\n",
    "\n",
    "trainer.callback_metrics"
   ]
  },
  {
   "cell_type": "code",
   "execution_count": 8,
   "metadata": {},
   "outputs": [
    {
     "data": {
      "text/plain": [
       "{}"
      ]
     },
     "execution_count": 8,
     "metadata": {},
     "output_type": "execute_result"
    }
   ],
   "source": [
    "trainer.callback_metrics"
   ]
  },
  {
   "cell_type": "code",
   "execution_count": 23,
   "metadata": {},
   "outputs": [],
   "source": [
    "def objective(trial: optuna.trial.Trial) -> float:\n",
    "    NUM_EPOCH = 3\n",
    "    L_IN = 16\n",
    "    C_IN = 1\n",
    "    \n",
    "    batch_size = trial.suggest_categorical(\"batch_size\", [32, 64, 128, 256, 512, 1024, 2048])\n",
    "    \n",
    "    dm = Custom_DataModule(xez = (x, e, z),\n",
    "                           dataset_class=CNN1D_Dataset,\n",
    "                           version='no', norm=True, #dataset_class kwargs\n",
    "                           batch_size=batch_size, num_workers=1)\n",
    "    \n",
    "    n_conv_layers = trial.suggest_int(\"n_conv_layers\", 1, 3)\n",
    "    \n",
    "    sequential = nn.Sequential()\n",
    "    \n",
    "    in_channels = [C_IN]\n",
    "    out_channels = []\n",
    "    kernel_size = []\n",
    "    padding = []\n",
    "    \n",
    "    batch_norm_conv = trial.suggest_categorical(\"batch_norm_conv\", [False, True])\n",
    "    if batch_norm_conv:\n",
    "        batch_norm_conv = nn.BatchNorm1d\n",
    "    else:\n",
    "        batch_norm_conv = None\n",
    "        \n",
    "    pool_type = trial.suggest_categorical(\"pool_type\", [\"max\", \"avg\"])\n",
    "    if pool_type == \"max\":\n",
    "        pool_type = MaxPool1d\n",
    "    else:\n",
    "        pool_type = AvgPool1d\n",
    "\n",
    "    pool_kernel_size = []\n",
    "    pool_padding = []\n",
    "        \n",
    "    length = [L_IN]\n",
    "    \n",
    "    \n",
    "    \n",
    "    for i in range(n_conv_layers):\n",
    "        \n",
    "        out_channels.append(trial.suggest_categorical(\"n_channels{}\".format(i+1), [16, 32, 64, 128]))\n",
    "        kernel_size.append(trial.suggest_int(\"kernel_size{}\".format(i+1), 1, length[i]))\n",
    "        padding.append(trial.suggest_int(\"padding{}\".format(i+1), 0, int(floor(kernel_size[i]/2))))\n",
    "\n",
    "        middle_length = length[i]+2*padding[i]-(kernel_size[i]-1)\n",
    "        \n",
    "        pool_kernel_size.append(trial.suggest_int(\"pool_kernel_size{}\".format(i+1), 1, middle_length))\n",
    "        pool_padding.append(trial.suggest_int(\"pool_padding{}\".format(i+1), 0, int(floor(pool_kernel_size[i]/2))))\n",
    "        \n",
    "        sequential = sequential.append(\n",
    "            Conv1dBlock(in_channels=in_channels[i], out_channels=out_channels[i],\n",
    "                        kernel_size=kernel_size[i], padding=padding[i],\n",
    "                        norm_layer=batch_norm_conv, norm_layer_args={\"num_features\": out_channels[i]},\n",
    "                        activation_function=nn.ReLU,\n",
    "                        pooling_layer=pool_type, pooling_layer_args=\n",
    "                        {\"kernel_size\":pool_kernel_size[i], \"padding\":pool_padding[i]})\n",
    "        )\n",
    "        \n",
    "\n",
    "        length.append(int(sequential[i].output_shape(length[i])['L_out']))\n",
    "        in_channels.append(out_channels[i])\n",
    "    \n",
    "    sequential = sequential.append(nn.Flatten(1, 2))\n",
    "    \n",
    "    first_input = out_channels[-1]*length[-1]\n",
    "        \n",
    "    n_dense_layers = trial.suggest_int(\"n_dense_layers\", 1, 3)\n",
    "    \n",
    "    dense_layers_sizes = [first_input]\n",
    "\n",
    "    batch_norm_dense = trial.suggest_categorical(\"batch_norm_dense\", [False, True])\n",
    "    if batch_norm_dense:\n",
    "        batch_norm_dense = nn.BatchNorm1d\n",
    "    else:\n",
    "        batch_norm_dense = None\n",
    "    \n",
    "    for i in range(n_dense_layers):\n",
    "        \n",
    "        dense_layers_sizes.append(\n",
    "            trial.suggest_int(\"dense_layer_size{}\".format(i+1), 1, dense_layers_sizes[i]))\n",
    "        \n",
    "        sequential = sequential.append(\n",
    "            LinearBlock(in_features=dense_layers_sizes[i], out_features=dense_layers_sizes[i+1],\n",
    "                        norm_layer=batch_norm_dense, norm_layer_args={\"num_features\": dense_layers_sizes[i+1]},\n",
    "                        activation_function=nn.ReLU))\n",
    "        \n",
    "    sequential = sequential.append(nn.Linear(dense_layers_sizes[-1], 1))\n",
    "    \n",
    "    lr = trial.suggest_float(\"lr\", 1e-6, 1, log=True)\n",
    "    weight_decay = trial.suggest_float(\"weight_decay\", 0, 1e-5)\n",
    "    \n",
    "    plateau_factor = trial.suggest_float(\"plateau_factor\", 0, 1)\n",
    "    \n",
    "    m = Reg(pytorch_module=sequential,\n",
    "            loss_func=nn.MSELoss,\n",
    "            optimizer=torch.optim.Adam, optimizer_args={\"lr\": lr, \"weight_decay\": weight_decay},\n",
    "            lr_scheduler=ReduceLROnPlateau,\n",
    "            lr_scheduler_args={\"mode\": 'min', \"factor\": plateau_factor, \"patience\": 5, \"threshold\": 1e-3},\n",
    "            tb_dir= dir + '/optuna')\n",
    "    \n",
    "    trainer = L.Trainer(max_epochs=NUM_EPOCH,\n",
    "                        enable_progress_bar = False, log_every_n_steps=1,\n",
    "                        accelerator=\"auto\", devices=1, callbacks=[PyTorchLightningPruningCallback(trial, monitor=\"val_loss\")], logger = True)\n",
    "    trainer.fit(m, datamodule=dm)\n",
    "\n",
    "    return_float = trainer.callback_metrics[\"val_loss\"].item()\n",
    "\n",
    "    trainer.test(m, datamodule=dm)\n",
    "\n",
    "    return return_float"
   ]
  },
  {
   "cell_type": "code",
   "execution_count": null,
   "metadata": {},
   "outputs": [],
   "source": []
  },
  {
   "cell_type": "code",
   "execution_count": 24,
   "metadata": {},
   "outputs": [
    {
     "name": "stderr",
     "output_type": "stream",
     "text": [
      "[I 2024-03-18 17:27:15,964] A new study created in RDB with name: CNN1D_no\n"
     ]
    },
    {
     "name": "stdout",
     "output_type": "stream",
     "text": [
      "A new study created in RDB with name: CNN1D_no\n",
      "A new study created in RDB with name: CNN1D_no\n",
      "A new study created in RDB with name: CNN1D_no\n",
      "A new study created in RDB with name: CNN1D_no\n",
      "A new study created in RDB with name: CNN1D_no\n"
     ]
    },
    {
     "name": "stderr",
     "output_type": "stream",
     "text": [
      "GPU available: False, used: False\n",
      "TPU available: False, using: 0 TPU cores\n",
      "IPU available: False, using: 0 IPUs\n",
      "HPU available: False, using: 0 HPUs\n",
      "\n",
      "  | Name           | Type       | Params\n",
      "----------------------------------------------\n",
      "0 | pytorch_module | Sequential | 34    \n",
      "1 | loss_func      | MSELoss    | 0     \n",
      "----------------------------------------------\n",
      "34        Trainable params\n",
      "0         Non-trainable params\n",
      "34        Total params\n",
      "0.000     Total estimated model params size (MB)\n",
      "/home/battisti/miniconda3/envs/Acnodnem-Ailiram/lib/python3.12/site-packages/lightning/pytorch/trainer/connectors/data_connector.py:441: The 'val_dataloader' does not have many workers which may be a bottleneck. Consider increasing the value of the `num_workers` argument` to `num_workers=3` in the `DataLoader` to improve performance.\n",
      "/home/battisti/miniconda3/envs/Acnodnem-Ailiram/lib/python3.12/site-packages/lightning/pytorch/trainer/connectors/data_connector.py:441: The 'train_dataloader' does not have many workers which may be a bottleneck. Consider increasing the value of the `num_workers` argument` to `num_workers=3` in the `DataLoader` to improve performance.\n",
      "`Trainer.fit` stopped: `max_epochs=3` reached.\n",
      "/home/battisti/miniconda3/envs/Acnodnem-Ailiram/lib/python3.12/site-packages/lightning/pytorch/trainer/connectors/data_connector.py:441: The 'test_dataloader' does not have many workers which may be a bottleneck. Consider increasing the value of the `num_workers` argument` to `num_workers=3` in the `DataLoader` to improve performance.\n",
      "[I 2024-03-18 17:27:32,938] Trial 0 finished with value: 0.48464396595954895 and parameters: {'batch_size': 32, 'n_conv_layers': 1, 'batch_norm_conv': True, 'pool_type': 'max', 'n_channels1': 64, 'kernel_size1': 5, 'padding1': 1, 'pool_kernel_size1': 6, 'pool_padding1': 0, 'n_dense_layers': 2, 'batch_norm_dense': True, 'dense_layer_size1': 63, 'dense_layer_size2': 33, 'lr': 0.06027496541015467, 'weight_decay': 8.90435556837968e-06, 'plateau_factor': 0.7402629855892903}. Best is trial 0 with value: 0.48464396595954895.\n"
     ]
    },
    {
     "name": "stdout",
     "output_type": "stream",
     "text": [
      "Trial 0 finished with value: 0.48464396595954895 and parameters: {'batch_size': 32, 'n_conv_layers': 1, 'batch_norm_conv': True, 'pool_type': 'max', 'n_channels1': 64, 'kernel_size1': 5, 'padding1': 1, 'pool_kernel_size1': 6, 'pool_padding1': 0, 'n_dense_layers': 2, 'batch_norm_dense': True, 'dense_layer_size1': 63, 'dense_layer_size2': 33, 'lr': 0.06027496541015467, 'weight_decay': 8.90435556837968e-06, 'plateau_factor': 0.7402629855892903}. Best is trial 0 with value: 0.48464396595954895.\n",
      "Trial 0 finished with value: 0.48464396595954895 and parameters: {'batch_size': 32, 'n_conv_layers': 1, 'batch_norm_conv': True, 'pool_type': 'max', 'n_channels1': 64, 'kernel_size1': 5, 'padding1': 1, 'pool_kernel_size1': 6, 'pool_padding1': 0, 'n_dense_layers': 2, 'batch_norm_dense': True, 'dense_layer_size1': 63, 'dense_layer_size2': 33, 'lr': 0.06027496541015467, 'weight_decay': 8.90435556837968e-06, 'plateau_factor': 0.7402629855892903}. Best is trial 0 with value: 0.48464396595954895.\n",
      "Trial 0 finished with value: 0.48464396595954895 and parameters: {'batch_size': 32, 'n_conv_layers': 1, 'batch_norm_conv': True, 'pool_type': 'max', 'n_channels1': 64, 'kernel_size1': 5, 'padding1': 1, 'pool_kernel_size1': 6, 'pool_padding1': 0, 'n_dense_layers': 2, 'batch_norm_dense': True, 'dense_layer_size1': 63, 'dense_layer_size2': 33, 'lr': 0.06027496541015467, 'weight_decay': 8.90435556837968e-06, 'plateau_factor': 0.7402629855892903}. Best is trial 0 with value: 0.48464396595954895.\n",
      "Trial 0 finished with value: 0.48464396595954895 and parameters: {'batch_size': 32, 'n_conv_layers': 1, 'batch_norm_conv': True, 'pool_type': 'max', 'n_channels1': 64, 'kernel_size1': 5, 'padding1': 1, 'pool_kernel_size1': 6, 'pool_padding1': 0, 'n_dense_layers': 2, 'batch_norm_dense': True, 'dense_layer_size1': 63, 'dense_layer_size2': 33, 'lr': 0.06027496541015467, 'weight_decay': 8.90435556837968e-06, 'plateau_factor': 0.7402629855892903}. Best is trial 0 with value: 0.48464396595954895.\n",
      "Trial 0 finished with value: 0.48464396595954895 and parameters: {'batch_size': 32, 'n_conv_layers': 1, 'batch_norm_conv': True, 'pool_type': 'max', 'n_channels1': 64, 'kernel_size1': 5, 'padding1': 1, 'pool_kernel_size1': 6, 'pool_padding1': 0, 'n_dense_layers': 2, 'batch_norm_dense': True, 'dense_layer_size1': 63, 'dense_layer_size2': 33, 'lr': 0.06027496541015467, 'weight_decay': 8.90435556837968e-06, 'plateau_factor': 0.7402629855892903}. Best is trial 0 with value: 0.48464396595954895.\n"
     ]
    },
    {
     "name": "stderr",
     "output_type": "stream",
     "text": [
      "GPU available: False, used: False\n",
      "TPU available: False, using: 0 TPU cores\n",
      "IPU available: False, using: 0 IPUs\n",
      "HPU available: False, using: 0 HPUs\n",
      "\n",
      "  | Name           | Type       | Params\n",
      "----------------------------------------------\n",
      "0 | pytorch_module | Sequential | 33    \n",
      "1 | loss_func      | MSELoss    | 0     \n",
      "----------------------------------------------\n",
      "33        Trainable params\n",
      "0         Non-trainable params\n",
      "33        Total params\n",
      "0.000     Total estimated model params size (MB)\n",
      "`Trainer.fit` stopped: `max_epochs=3` reached.\n",
      "[I 2024-03-18 17:27:44,936] Trial 1 finished with value: 1.0619359016418457 and parameters: {'batch_size': 64, 'n_conv_layers': 1, 'batch_norm_conv': True, 'pool_type': 'max', 'n_channels1': 16, 'kernel_size1': 14, 'padding1': 6, 'pool_kernel_size1': 3, 'pool_padding1': 0, 'n_dense_layers': 2, 'batch_norm_dense': False, 'dense_layer_size1': 45, 'dense_layer_size2': 32, 'lr': 0.00072939150594133, 'weight_decay': 2.1898880106674957e-06, 'plateau_factor': 0.561168313032679}. Best is trial 0 with value: 0.48464396595954895.\n"
     ]
    },
    {
     "name": "stdout",
     "output_type": "stream",
     "text": [
      "Trial 1 finished with value: 1.0619359016418457 and parameters: {'batch_size': 64, 'n_conv_layers': 1, 'batch_norm_conv': True, 'pool_type': 'max', 'n_channels1': 16, 'kernel_size1': 14, 'padding1': 6, 'pool_kernel_size1': 3, 'pool_padding1': 0, 'n_dense_layers': 2, 'batch_norm_dense': False, 'dense_layer_size1': 45, 'dense_layer_size2': 32, 'lr': 0.00072939150594133, 'weight_decay': 2.1898880106674957e-06, 'plateau_factor': 0.561168313032679}. Best is trial 0 with value: 0.48464396595954895.\n",
      "Trial 1 finished with value: 1.0619359016418457 and parameters: {'batch_size': 64, 'n_conv_layers': 1, 'batch_norm_conv': True, 'pool_type': 'max', 'n_channels1': 16, 'kernel_size1': 14, 'padding1': 6, 'pool_kernel_size1': 3, 'pool_padding1': 0, 'n_dense_layers': 2, 'batch_norm_dense': False, 'dense_layer_size1': 45, 'dense_layer_size2': 32, 'lr': 0.00072939150594133, 'weight_decay': 2.1898880106674957e-06, 'plateau_factor': 0.561168313032679}. Best is trial 0 with value: 0.48464396595954895.\n",
      "Trial 1 finished with value: 1.0619359016418457 and parameters: {'batch_size': 64, 'n_conv_layers': 1, 'batch_norm_conv': True, 'pool_type': 'max', 'n_channels1': 16, 'kernel_size1': 14, 'padding1': 6, 'pool_kernel_size1': 3, 'pool_padding1': 0, 'n_dense_layers': 2, 'batch_norm_dense': False, 'dense_layer_size1': 45, 'dense_layer_size2': 32, 'lr': 0.00072939150594133, 'weight_decay': 2.1898880106674957e-06, 'plateau_factor': 0.561168313032679}. Best is trial 0 with value: 0.48464396595954895.\n",
      "Trial 1 finished with value: 1.0619359016418457 and parameters: {'batch_size': 64, 'n_conv_layers': 1, 'batch_norm_conv': True, 'pool_type': 'max', 'n_channels1': 16, 'kernel_size1': 14, 'padding1': 6, 'pool_kernel_size1': 3, 'pool_padding1': 0, 'n_dense_layers': 2, 'batch_norm_dense': False, 'dense_layer_size1': 45, 'dense_layer_size2': 32, 'lr': 0.00072939150594133, 'weight_decay': 2.1898880106674957e-06, 'plateau_factor': 0.561168313032679}. Best is trial 0 with value: 0.48464396595954895.\n",
      "Trial 1 finished with value: 1.0619359016418457 and parameters: {'batch_size': 64, 'n_conv_layers': 1, 'batch_norm_conv': True, 'pool_type': 'max', 'n_channels1': 16, 'kernel_size1': 14, 'padding1': 6, 'pool_kernel_size1': 3, 'pool_padding1': 0, 'n_dense_layers': 2, 'batch_norm_dense': False, 'dense_layer_size1': 45, 'dense_layer_size2': 32, 'lr': 0.00072939150594133, 'weight_decay': 2.1898880106674957e-06, 'plateau_factor': 0.561168313032679}. Best is trial 0 with value: 0.48464396595954895.\n"
     ]
    },
    {
     "name": "stderr",
     "output_type": "stream",
     "text": [
      "GPU available: False, used: False\n",
      "TPU available: False, using: 0 TPU cores\n",
      "IPU available: False, using: 0 IPUs\n",
      "HPU available: False, using: 0 HPUs\n",
      "\n",
      "  | Name           | Type       | Params\n",
      "----------------------------------------------\n",
      "0 | pytorch_module | Sequential | 55    \n",
      "1 | loss_func      | MSELoss    | 0     \n",
      "----------------------------------------------\n",
      "55        Trainable params\n",
      "0         Non-trainable params\n",
      "55        Total params\n",
      "0.000     Total estimated model params size (MB)\n",
      "[I 2024-03-18 17:27:49,444] Trial 2 pruned. Trial was pruned at epoch 1.\n"
     ]
    },
    {
     "name": "stdout",
     "output_type": "stream",
     "text": [
      "Trial 2 pruned. Trial was pruned at epoch 1.\n",
      "Trial 2 pruned. Trial was pruned at epoch 1.\n",
      "Trial 2 pruned. Trial was pruned at epoch 1.\n",
      "Trial 2 pruned. Trial was pruned at epoch 1.\n",
      "Trial 2 pruned. Trial was pruned at epoch 1.\n"
     ]
    },
    {
     "name": "stderr",
     "output_type": "stream",
     "text": [
      "GPU available: False, used: False\n",
      "TPU available: False, using: 0 TPU cores\n",
      "IPU available: False, using: 0 IPUs\n",
      "HPU available: False, using: 0 HPUs\n",
      "\n",
      "  | Name           | Type       | Params\n",
      "----------------------------------------------\n",
      "0 | pytorch_module | Sequential | 9     \n",
      "1 | loss_func      | MSELoss    | 0     \n",
      "----------------------------------------------\n",
      "9         Trainable params\n",
      "0         Non-trainable params\n",
      "9         Total params\n",
      "0.000     Total estimated model params size (MB)\n",
      "`Trainer.fit` stopped: `max_epochs=3` reached.\n",
      "[I 2024-03-18 17:27:55,665] Trial 3 finished with value: 0.48389559984207153 and parameters: {'batch_size': 512, 'n_conv_layers': 1, 'batch_norm_conv': True, 'pool_type': 'avg', 'n_channels1': 16, 'kernel_size1': 9, 'padding1': 0, 'pool_kernel_size1': 6, 'pool_padding1': 2, 'n_dense_layers': 2, 'batch_norm_dense': False, 'dense_layer_size1': 8, 'dense_layer_size2': 8, 'lr': 0.7518977779068382, 'weight_decay': 5.515109073250779e-06, 'plateau_factor': 0.43011862954745683}. Best is trial 3 with value: 0.48389559984207153.\n"
     ]
    },
    {
     "name": "stdout",
     "output_type": "stream",
     "text": [
      "Trial 3 finished with value: 0.48389559984207153 and parameters: {'batch_size': 512, 'n_conv_layers': 1, 'batch_norm_conv': True, 'pool_type': 'avg', 'n_channels1': 16, 'kernel_size1': 9, 'padding1': 0, 'pool_kernel_size1': 6, 'pool_padding1': 2, 'n_dense_layers': 2, 'batch_norm_dense': False, 'dense_layer_size1': 8, 'dense_layer_size2': 8, 'lr': 0.7518977779068382, 'weight_decay': 5.515109073250779e-06, 'plateau_factor': 0.43011862954745683}. Best is trial 3 with value: 0.48389559984207153.\n",
      "Trial 3 finished with value: 0.48389559984207153 and parameters: {'batch_size': 512, 'n_conv_layers': 1, 'batch_norm_conv': True, 'pool_type': 'avg', 'n_channels1': 16, 'kernel_size1': 9, 'padding1': 0, 'pool_kernel_size1': 6, 'pool_padding1': 2, 'n_dense_layers': 2, 'batch_norm_dense': False, 'dense_layer_size1': 8, 'dense_layer_size2': 8, 'lr': 0.7518977779068382, 'weight_decay': 5.515109073250779e-06, 'plateau_factor': 0.43011862954745683}. Best is trial 3 with value: 0.48389559984207153.\n",
      "Trial 3 finished with value: 0.48389559984207153 and parameters: {'batch_size': 512, 'n_conv_layers': 1, 'batch_norm_conv': True, 'pool_type': 'avg', 'n_channels1': 16, 'kernel_size1': 9, 'padding1': 0, 'pool_kernel_size1': 6, 'pool_padding1': 2, 'n_dense_layers': 2, 'batch_norm_dense': False, 'dense_layer_size1': 8, 'dense_layer_size2': 8, 'lr': 0.7518977779068382, 'weight_decay': 5.515109073250779e-06, 'plateau_factor': 0.43011862954745683}. Best is trial 3 with value: 0.48389559984207153.\n",
      "Trial 3 finished with value: 0.48389559984207153 and parameters: {'batch_size': 512, 'n_conv_layers': 1, 'batch_norm_conv': True, 'pool_type': 'avg', 'n_channels1': 16, 'kernel_size1': 9, 'padding1': 0, 'pool_kernel_size1': 6, 'pool_padding1': 2, 'n_dense_layers': 2, 'batch_norm_dense': False, 'dense_layer_size1': 8, 'dense_layer_size2': 8, 'lr': 0.7518977779068382, 'weight_decay': 5.515109073250779e-06, 'plateau_factor': 0.43011862954745683}. Best is trial 3 with value: 0.48389559984207153.\n",
      "Trial 3 finished with value: 0.48389559984207153 and parameters: {'batch_size': 512, 'n_conv_layers': 1, 'batch_norm_conv': True, 'pool_type': 'avg', 'n_channels1': 16, 'kernel_size1': 9, 'padding1': 0, 'pool_kernel_size1': 6, 'pool_padding1': 2, 'n_dense_layers': 2, 'batch_norm_dense': False, 'dense_layer_size1': 8, 'dense_layer_size2': 8, 'lr': 0.7518977779068382, 'weight_decay': 5.515109073250779e-06, 'plateau_factor': 0.43011862954745683}. Best is trial 3 with value: 0.48389559984207153.\n"
     ]
    },
    {
     "name": "stderr",
     "output_type": "stream",
     "text": [
      "GPU available: False, used: False\n",
      "TPU available: False, using: 0 TPU cores\n",
      "IPU available: False, using: 0 IPUs\n",
      "HPU available: False, using: 0 HPUs\n",
      "\n",
      "  | Name           | Type       | Params\n",
      "----------------------------------------------\n",
      "0 | pytorch_module | Sequential | 25    \n",
      "1 | loss_func      | MSELoss    | 0     \n",
      "----------------------------------------------\n",
      "25        Trainable params\n",
      "0         Non-trainable params\n",
      "25        Total params\n",
      "0.000     Total estimated model params size (MB)\n",
      "`Trainer.fit` stopped: `max_epochs=3` reached.\n",
      "[I 2024-03-18 17:28:03,702] Trial 4 finished with value: 1.7616771459579468 and parameters: {'batch_size': 128, 'n_conv_layers': 1, 'batch_norm_conv': True, 'pool_type': 'max', 'n_channels1': 32, 'kernel_size1': 11, 'padding1': 4, 'pool_kernel_size1': 9, 'pool_padding1': 4, 'n_dense_layers': 1, 'batch_norm_dense': False, 'dense_layer_size1': 24, 'lr': 0.00035351413924488193, 'weight_decay': 2.1795764673915263e-06, 'plateau_factor': 0.9385870872434834}. Best is trial 3 with value: 0.48389559984207153.\n"
     ]
    },
    {
     "name": "stdout",
     "output_type": "stream",
     "text": [
      "Trial 4 finished with value: 1.7616771459579468 and parameters: {'batch_size': 128, 'n_conv_layers': 1, 'batch_norm_conv': True, 'pool_type': 'max', 'n_channels1': 32, 'kernel_size1': 11, 'padding1': 4, 'pool_kernel_size1': 9, 'pool_padding1': 4, 'n_dense_layers': 1, 'batch_norm_dense': False, 'dense_layer_size1': 24, 'lr': 0.00035351413924488193, 'weight_decay': 2.1795764673915263e-06, 'plateau_factor': 0.9385870872434834}. Best is trial 3 with value: 0.48389559984207153.\n",
      "Trial 4 finished with value: 1.7616771459579468 and parameters: {'batch_size': 128, 'n_conv_layers': 1, 'batch_norm_conv': True, 'pool_type': 'max', 'n_channels1': 32, 'kernel_size1': 11, 'padding1': 4, 'pool_kernel_size1': 9, 'pool_padding1': 4, 'n_dense_layers': 1, 'batch_norm_dense': False, 'dense_layer_size1': 24, 'lr': 0.00035351413924488193, 'weight_decay': 2.1795764673915263e-06, 'plateau_factor': 0.9385870872434834}. Best is trial 3 with value: 0.48389559984207153.\n",
      "Trial 4 finished with value: 1.7616771459579468 and parameters: {'batch_size': 128, 'n_conv_layers': 1, 'batch_norm_conv': True, 'pool_type': 'max', 'n_channels1': 32, 'kernel_size1': 11, 'padding1': 4, 'pool_kernel_size1': 9, 'pool_padding1': 4, 'n_dense_layers': 1, 'batch_norm_dense': False, 'dense_layer_size1': 24, 'lr': 0.00035351413924488193, 'weight_decay': 2.1795764673915263e-06, 'plateau_factor': 0.9385870872434834}. Best is trial 3 with value: 0.48389559984207153.\n",
      "Trial 4 finished with value: 1.7616771459579468 and parameters: {'batch_size': 128, 'n_conv_layers': 1, 'batch_norm_conv': True, 'pool_type': 'max', 'n_channels1': 32, 'kernel_size1': 11, 'padding1': 4, 'pool_kernel_size1': 9, 'pool_padding1': 4, 'n_dense_layers': 1, 'batch_norm_dense': False, 'dense_layer_size1': 24, 'lr': 0.00035351413924488193, 'weight_decay': 2.1795764673915263e-06, 'plateau_factor': 0.9385870872434834}. Best is trial 3 with value: 0.48389559984207153.\n",
      "Trial 4 finished with value: 1.7616771459579468 and parameters: {'batch_size': 128, 'n_conv_layers': 1, 'batch_norm_conv': True, 'pool_type': 'max', 'n_channels1': 32, 'kernel_size1': 11, 'padding1': 4, 'pool_kernel_size1': 9, 'pool_padding1': 4, 'n_dense_layers': 1, 'batch_norm_dense': False, 'dense_layer_size1': 24, 'lr': 0.00035351413924488193, 'weight_decay': 2.1795764673915263e-06, 'plateau_factor': 0.9385870872434834}. Best is trial 3 with value: 0.48389559984207153.\n"
     ]
    },
    {
     "name": "stderr",
     "output_type": "stream",
     "text": [
      "GPU available: False, used: False\n",
      "TPU available: False, using: 0 TPU cores\n",
      "IPU available: False, using: 0 IPUs\n",
      "HPU available: False, using: 0 HPUs\n",
      "\n",
      "  | Name           | Type       | Params\n",
      "----------------------------------------------\n",
      "0 | pytorch_module | Sequential | 2     \n",
      "1 | loss_func      | MSELoss    | 0     \n",
      "----------------------------------------------\n",
      "2         Trainable params\n",
      "0         Non-trainable params\n",
      "2         Total params\n",
      "0.000     Total estimated model params size (MB)\n",
      "[I 2024-03-18 17:28:15,548] Trial 5 pruned. Trial was pruned at epoch 1.\n"
     ]
    },
    {
     "name": "stdout",
     "output_type": "stream",
     "text": [
      "Trial 5 pruned. Trial was pruned at epoch 1.\n",
      "Trial 5 pruned. Trial was pruned at epoch 1.\n",
      "Trial 5 pruned. Trial was pruned at epoch 1.\n",
      "Trial 5 pruned. Trial was pruned at epoch 1.\n",
      "Trial 5 pruned. Trial was pruned at epoch 1.\n"
     ]
    },
    {
     "name": "stderr",
     "output_type": "stream",
     "text": [
      "GPU available: False, used: False\n",
      "TPU available: False, using: 0 TPU cores\n",
      "IPU available: False, using: 0 IPUs\n",
      "HPU available: False, using: 0 HPUs\n",
      "\n",
      "  | Name           | Type       | Params\n",
      "----------------------------------------------\n",
      "0 | pytorch_module | Sequential | 3     \n",
      "1 | loss_func      | MSELoss    | 0     \n",
      "----------------------------------------------\n",
      "3         Trainable params\n",
      "0         Non-trainable params\n",
      "3         Total params\n",
      "0.000     Total estimated model params size (MB)\n",
      "`Trainer.fit` stopped: `max_epochs=3` reached.\n",
      "[I 2024-03-18 17:28:26,826] Trial 6 finished with value: 0.5040042996406555 and parameters: {'batch_size': 128, 'n_conv_layers': 3, 'batch_norm_conv': False, 'pool_type': 'avg', 'n_channels1': 128, 'kernel_size1': 2, 'padding1': 1, 'pool_kernel_size1': 6, 'pool_padding1': 2, 'n_channels2': 32, 'kernel_size2': 1, 'padding2': 0, 'pool_kernel_size2': 2, 'pool_padding2': 1, 'n_channels3': 128, 'kernel_size3': 1, 'padding3': 0, 'pool_kernel_size3': 1, 'pool_padding3': 0, 'n_dense_layers': 2, 'batch_norm_dense': True, 'dense_layer_size1': 48, 'dense_layer_size2': 2, 'lr': 0.18095152055166094, 'weight_decay': 8.937230202716904e-06, 'plateau_factor': 0.7741319771174414}. Best is trial 3 with value: 0.48389559984207153.\n"
     ]
    },
    {
     "name": "stdout",
     "output_type": "stream",
     "text": [
      "Trial 6 finished with value: 0.5040042996406555 and parameters: {'batch_size': 128, 'n_conv_layers': 3, 'batch_norm_conv': False, 'pool_type': 'avg', 'n_channels1': 128, 'kernel_size1': 2, 'padding1': 1, 'pool_kernel_size1': 6, 'pool_padding1': 2, 'n_channels2': 32, 'kernel_size2': 1, 'padding2': 0, 'pool_kernel_size2': 2, 'pool_padding2': 1, 'n_channels3': 128, 'kernel_size3': 1, 'padding3': 0, 'pool_kernel_size3': 1, 'pool_padding3': 0, 'n_dense_layers': 2, 'batch_norm_dense': True, 'dense_layer_size1': 48, 'dense_layer_size2': 2, 'lr': 0.18095152055166094, 'weight_decay': 8.937230202716904e-06, 'plateau_factor': 0.7741319771174414}. Best is trial 3 with value: 0.48389559984207153.\n",
      "Trial 6 finished with value: 0.5040042996406555 and parameters: {'batch_size': 128, 'n_conv_layers': 3, 'batch_norm_conv': False, 'pool_type': 'avg', 'n_channels1': 128, 'kernel_size1': 2, 'padding1': 1, 'pool_kernel_size1': 6, 'pool_padding1': 2, 'n_channels2': 32, 'kernel_size2': 1, 'padding2': 0, 'pool_kernel_size2': 2, 'pool_padding2': 1, 'n_channels3': 128, 'kernel_size3': 1, 'padding3': 0, 'pool_kernel_size3': 1, 'pool_padding3': 0, 'n_dense_layers': 2, 'batch_norm_dense': True, 'dense_layer_size1': 48, 'dense_layer_size2': 2, 'lr': 0.18095152055166094, 'weight_decay': 8.937230202716904e-06, 'plateau_factor': 0.7741319771174414}. Best is trial 3 with value: 0.48389559984207153.\n",
      "Trial 6 finished with value: 0.5040042996406555 and parameters: {'batch_size': 128, 'n_conv_layers': 3, 'batch_norm_conv': False, 'pool_type': 'avg', 'n_channels1': 128, 'kernel_size1': 2, 'padding1': 1, 'pool_kernel_size1': 6, 'pool_padding1': 2, 'n_channels2': 32, 'kernel_size2': 1, 'padding2': 0, 'pool_kernel_size2': 2, 'pool_padding2': 1, 'n_channels3': 128, 'kernel_size3': 1, 'padding3': 0, 'pool_kernel_size3': 1, 'pool_padding3': 0, 'n_dense_layers': 2, 'batch_norm_dense': True, 'dense_layer_size1': 48, 'dense_layer_size2': 2, 'lr': 0.18095152055166094, 'weight_decay': 8.937230202716904e-06, 'plateau_factor': 0.7741319771174414}. Best is trial 3 with value: 0.48389559984207153.\n",
      "Trial 6 finished with value: 0.5040042996406555 and parameters: {'batch_size': 128, 'n_conv_layers': 3, 'batch_norm_conv': False, 'pool_type': 'avg', 'n_channels1': 128, 'kernel_size1': 2, 'padding1': 1, 'pool_kernel_size1': 6, 'pool_padding1': 2, 'n_channels2': 32, 'kernel_size2': 1, 'padding2': 0, 'pool_kernel_size2': 2, 'pool_padding2': 1, 'n_channels3': 128, 'kernel_size3': 1, 'padding3': 0, 'pool_kernel_size3': 1, 'pool_padding3': 0, 'n_dense_layers': 2, 'batch_norm_dense': True, 'dense_layer_size1': 48, 'dense_layer_size2': 2, 'lr': 0.18095152055166094, 'weight_decay': 8.937230202716904e-06, 'plateau_factor': 0.7741319771174414}. Best is trial 3 with value: 0.48389559984207153.\n",
      "Trial 6 finished with value: 0.5040042996406555 and parameters: {'batch_size': 128, 'n_conv_layers': 3, 'batch_norm_conv': False, 'pool_type': 'avg', 'n_channels1': 128, 'kernel_size1': 2, 'padding1': 1, 'pool_kernel_size1': 6, 'pool_padding1': 2, 'n_channels2': 32, 'kernel_size2': 1, 'padding2': 0, 'pool_kernel_size2': 2, 'pool_padding2': 1, 'n_channels3': 128, 'kernel_size3': 1, 'padding3': 0, 'pool_kernel_size3': 1, 'pool_padding3': 0, 'n_dense_layers': 2, 'batch_norm_dense': True, 'dense_layer_size1': 48, 'dense_layer_size2': 2, 'lr': 0.18095152055166094, 'weight_decay': 8.937230202716904e-06, 'plateau_factor': 0.7741319771174414}. Best is trial 3 with value: 0.48389559984207153.\n"
     ]
    },
    {
     "name": "stderr",
     "output_type": "stream",
     "text": [
      "GPU available: False, used: False\n",
      "TPU available: False, using: 0 TPU cores\n",
      "IPU available: False, using: 0 IPUs\n",
      "HPU available: False, using: 0 HPUs\n",
      "\n",
      "  | Name           | Type       | Params\n",
      "----------------------------------------------\n",
      "0 | pytorch_module | Sequential | 20    \n",
      "1 | loss_func      | MSELoss    | 0     \n",
      "----------------------------------------------\n",
      "20        Trainable params\n",
      "0         Non-trainable params\n",
      "20        Total params\n",
      "0.000     Total estimated model params size (MB)\n",
      "[I 2024-03-18 17:28:33,879] Trial 7 pruned. Trial was pruned at epoch 1.\n"
     ]
    },
    {
     "name": "stdout",
     "output_type": "stream",
     "text": [
      "Trial 7 pruned. Trial was pruned at epoch 1.\n",
      "Trial 7 pruned. Trial was pruned at epoch 1.\n",
      "Trial 7 pruned. Trial was pruned at epoch 1.\n",
      "Trial 7 pruned. Trial was pruned at epoch 1.\n",
      "Trial 7 pruned. Trial was pruned at epoch 1.\n"
     ]
    },
    {
     "name": "stderr",
     "output_type": "stream",
     "text": [
      "GPU available: False, used: False\n",
      "TPU available: False, using: 0 TPU cores\n",
      "IPU available: False, using: 0 IPUs\n",
      "HPU available: False, using: 0 HPUs\n",
      "\n",
      "  | Name           | Type       | Params\n",
      "----------------------------------------------\n",
      "0 | pytorch_module | Sequential | 188   \n",
      "1 | loss_func      | MSELoss    | 0     \n",
      "----------------------------------------------\n",
      "188       Trainable params\n",
      "0         Non-trainable params\n",
      "188       Total params\n",
      "0.001     Total estimated model params size (MB)\n",
      "`Trainer.fit` stopped: `max_epochs=3` reached.\n",
      "[I 2024-03-18 17:28:39,500] Trial 8 finished with value: 3.150540590286255 and parameters: {'batch_size': 512, 'n_conv_layers': 1, 'batch_norm_conv': False, 'pool_type': 'max', 'n_channels1': 128, 'kernel_size1': 15, 'padding1': 0, 'pool_kernel_size1': 1, 'pool_padding1': 0, 'n_dense_layers': 1, 'batch_norm_dense': False, 'dense_layer_size1': 187, 'lr': 1.6918307660400546e-05, 'weight_decay': 9.575811828805992e-06, 'plateau_factor': 0.8684563011080738}. Best is trial 3 with value: 0.48389559984207153.\n"
     ]
    },
    {
     "name": "stdout",
     "output_type": "stream",
     "text": [
      "Trial 8 finished with value: 3.150540590286255 and parameters: {'batch_size': 512, 'n_conv_layers': 1, 'batch_norm_conv': False, 'pool_type': 'max', 'n_channels1': 128, 'kernel_size1': 15, 'padding1': 0, 'pool_kernel_size1': 1, 'pool_padding1': 0, 'n_dense_layers': 1, 'batch_norm_dense': False, 'dense_layer_size1': 187, 'lr': 1.6918307660400546e-05, 'weight_decay': 9.575811828805992e-06, 'plateau_factor': 0.8684563011080738}. Best is trial 3 with value: 0.48389559984207153.\n",
      "Trial 8 finished with value: 3.150540590286255 and parameters: {'batch_size': 512, 'n_conv_layers': 1, 'batch_norm_conv': False, 'pool_type': 'max', 'n_channels1': 128, 'kernel_size1': 15, 'padding1': 0, 'pool_kernel_size1': 1, 'pool_padding1': 0, 'n_dense_layers': 1, 'batch_norm_dense': False, 'dense_layer_size1': 187, 'lr': 1.6918307660400546e-05, 'weight_decay': 9.575811828805992e-06, 'plateau_factor': 0.8684563011080738}. Best is trial 3 with value: 0.48389559984207153.\n",
      "Trial 8 finished with value: 3.150540590286255 and parameters: {'batch_size': 512, 'n_conv_layers': 1, 'batch_norm_conv': False, 'pool_type': 'max', 'n_channels1': 128, 'kernel_size1': 15, 'padding1': 0, 'pool_kernel_size1': 1, 'pool_padding1': 0, 'n_dense_layers': 1, 'batch_norm_dense': False, 'dense_layer_size1': 187, 'lr': 1.6918307660400546e-05, 'weight_decay': 9.575811828805992e-06, 'plateau_factor': 0.8684563011080738}. Best is trial 3 with value: 0.48389559984207153.\n",
      "Trial 8 finished with value: 3.150540590286255 and parameters: {'batch_size': 512, 'n_conv_layers': 1, 'batch_norm_conv': False, 'pool_type': 'max', 'n_channels1': 128, 'kernel_size1': 15, 'padding1': 0, 'pool_kernel_size1': 1, 'pool_padding1': 0, 'n_dense_layers': 1, 'batch_norm_dense': False, 'dense_layer_size1': 187, 'lr': 1.6918307660400546e-05, 'weight_decay': 9.575811828805992e-06, 'plateau_factor': 0.8684563011080738}. Best is trial 3 with value: 0.48389559984207153.\n",
      "Trial 8 finished with value: 3.150540590286255 and parameters: {'batch_size': 512, 'n_conv_layers': 1, 'batch_norm_conv': False, 'pool_type': 'max', 'n_channels1': 128, 'kernel_size1': 15, 'padding1': 0, 'pool_kernel_size1': 1, 'pool_padding1': 0, 'n_dense_layers': 1, 'batch_norm_dense': False, 'dense_layer_size1': 187, 'lr': 1.6918307660400546e-05, 'weight_decay': 9.575811828805992e-06, 'plateau_factor': 0.8684563011080738}. Best is trial 3 with value: 0.48389559984207153.\n"
     ]
    },
    {
     "name": "stderr",
     "output_type": "stream",
     "text": [
      "GPU available: False, used: False\n",
      "TPU available: False, using: 0 TPU cores\n",
      "IPU available: False, using: 0 IPUs\n",
      "HPU available: False, using: 0 HPUs\n",
      "\n",
      "  | Name           | Type       | Params\n",
      "----------------------------------------------\n",
      "0 | pytorch_module | Sequential | 90    \n",
      "1 | loss_func      | MSELoss    | 0     \n",
      "----------------------------------------------\n",
      "90        Trainable params\n",
      "0         Non-trainable params\n",
      "90        Total params\n",
      "0.000     Total estimated model params size (MB)\n",
      "`Trainer.fit` stopped: `max_epochs=3` reached.\n",
      "[I 2024-03-18 17:29:13,646] Trial 9 finished with value: 2.366931438446045 and parameters: {'batch_size': 128, 'n_conv_layers': 3, 'batch_norm_conv': True, 'pool_type': 'max', 'n_channels1': 64, 'kernel_size1': 2, 'padding1': 1, 'pool_kernel_size1': 5, 'pool_padding1': 0, 'n_channels2': 16, 'kernel_size2': 2, 'padding2': 1, 'pool_kernel_size2': 3, 'pool_padding2': 1, 'n_channels3': 128, 'kernel_size3': 2, 'padding3': 0, 'pool_kernel_size3': 1, 'pool_padding3': 0, 'n_dense_layers': 2, 'batch_norm_dense': True, 'dense_layer_size1': 103, 'dense_layer_size2': 89, 'lr': 3.0469102452398554e-05, 'weight_decay': 3.6378889818045747e-06, 'plateau_factor': 0.2872528517211146}. Best is trial 3 with value: 0.48389559984207153.\n"
     ]
    },
    {
     "name": "stdout",
     "output_type": "stream",
     "text": [
      "Trial 9 finished with value: 2.366931438446045 and parameters: {'batch_size': 128, 'n_conv_layers': 3, 'batch_norm_conv': True, 'pool_type': 'max', 'n_channels1': 64, 'kernel_size1': 2, 'padding1': 1, 'pool_kernel_size1': 5, 'pool_padding1': 0, 'n_channels2': 16, 'kernel_size2': 2, 'padding2': 1, 'pool_kernel_size2': 3, 'pool_padding2': 1, 'n_channels3': 128, 'kernel_size3': 2, 'padding3': 0, 'pool_kernel_size3': 1, 'pool_padding3': 0, 'n_dense_layers': 2, 'batch_norm_dense': True, 'dense_layer_size1': 103, 'dense_layer_size2': 89, 'lr': 3.0469102452398554e-05, 'weight_decay': 3.6378889818045747e-06, 'plateau_factor': 0.2872528517211146}. Best is trial 3 with value: 0.48389559984207153.\n",
      "Trial 9 finished with value: 2.366931438446045 and parameters: {'batch_size': 128, 'n_conv_layers': 3, 'batch_norm_conv': True, 'pool_type': 'max', 'n_channels1': 64, 'kernel_size1': 2, 'padding1': 1, 'pool_kernel_size1': 5, 'pool_padding1': 0, 'n_channels2': 16, 'kernel_size2': 2, 'padding2': 1, 'pool_kernel_size2': 3, 'pool_padding2': 1, 'n_channels3': 128, 'kernel_size3': 2, 'padding3': 0, 'pool_kernel_size3': 1, 'pool_padding3': 0, 'n_dense_layers': 2, 'batch_norm_dense': True, 'dense_layer_size1': 103, 'dense_layer_size2': 89, 'lr': 3.0469102452398554e-05, 'weight_decay': 3.6378889818045747e-06, 'plateau_factor': 0.2872528517211146}. Best is trial 3 with value: 0.48389559984207153.\n",
      "Trial 9 finished with value: 2.366931438446045 and parameters: {'batch_size': 128, 'n_conv_layers': 3, 'batch_norm_conv': True, 'pool_type': 'max', 'n_channels1': 64, 'kernel_size1': 2, 'padding1': 1, 'pool_kernel_size1': 5, 'pool_padding1': 0, 'n_channels2': 16, 'kernel_size2': 2, 'padding2': 1, 'pool_kernel_size2': 3, 'pool_padding2': 1, 'n_channels3': 128, 'kernel_size3': 2, 'padding3': 0, 'pool_kernel_size3': 1, 'pool_padding3': 0, 'n_dense_layers': 2, 'batch_norm_dense': True, 'dense_layer_size1': 103, 'dense_layer_size2': 89, 'lr': 3.0469102452398554e-05, 'weight_decay': 3.6378889818045747e-06, 'plateau_factor': 0.2872528517211146}. Best is trial 3 with value: 0.48389559984207153.\n",
      "Trial 9 finished with value: 2.366931438446045 and parameters: {'batch_size': 128, 'n_conv_layers': 3, 'batch_norm_conv': True, 'pool_type': 'max', 'n_channels1': 64, 'kernel_size1': 2, 'padding1': 1, 'pool_kernel_size1': 5, 'pool_padding1': 0, 'n_channels2': 16, 'kernel_size2': 2, 'padding2': 1, 'pool_kernel_size2': 3, 'pool_padding2': 1, 'n_channels3': 128, 'kernel_size3': 2, 'padding3': 0, 'pool_kernel_size3': 1, 'pool_padding3': 0, 'n_dense_layers': 2, 'batch_norm_dense': True, 'dense_layer_size1': 103, 'dense_layer_size2': 89, 'lr': 3.0469102452398554e-05, 'weight_decay': 3.6378889818045747e-06, 'plateau_factor': 0.2872528517211146}. Best is trial 3 with value: 0.48389559984207153.\n",
      "Trial 9 finished with value: 2.366931438446045 and parameters: {'batch_size': 128, 'n_conv_layers': 3, 'batch_norm_conv': True, 'pool_type': 'max', 'n_channels1': 64, 'kernel_size1': 2, 'padding1': 1, 'pool_kernel_size1': 5, 'pool_padding1': 0, 'n_channels2': 16, 'kernel_size2': 2, 'padding2': 1, 'pool_kernel_size2': 3, 'pool_padding2': 1, 'n_channels3': 128, 'kernel_size3': 2, 'padding3': 0, 'pool_kernel_size3': 1, 'pool_padding3': 0, 'n_dense_layers': 2, 'batch_norm_dense': True, 'dense_layer_size1': 103, 'dense_layer_size2': 89, 'lr': 3.0469102452398554e-05, 'weight_decay': 3.6378889818045747e-06, 'plateau_factor': 0.2872528517211146}. Best is trial 3 with value: 0.48389559984207153.\n"
     ]
    },
    {
     "name": "stderr",
     "output_type": "stream",
     "text": [
      "GPU available: False, used: False\n",
      "TPU available: False, using: 0 TPU cores\n",
      "IPU available: False, using: 0 IPUs\n",
      "HPU available: False, using: 0 HPUs\n",
      "\n",
      "  | Name           | Type       | Params\n",
      "----------------------------------------------\n",
      "0 | pytorch_module | Sequential | 4     \n",
      "1 | loss_func      | MSELoss    | 0     \n",
      "----------------------------------------------\n",
      "4         Trainable params\n",
      "0         Non-trainable params\n",
      "4         Total params\n",
      "0.000     Total estimated model params size (MB)\n",
      "[I 2024-03-18 17:29:20,584] Trial 10 pruned. Trial was pruned at epoch 1.\n"
     ]
    },
    {
     "name": "stdout",
     "output_type": "stream",
     "text": [
      "Trial 10 pruned. Trial was pruned at epoch 1.\n",
      "Trial 10 pruned. Trial was pruned at epoch 1.\n",
      "Trial 10 pruned. Trial was pruned at epoch 1.\n",
      "Trial 10 pruned. Trial was pruned at epoch 1.\n",
      "Trial 10 pruned. Trial was pruned at epoch 1.\n"
     ]
    },
    {
     "name": "stderr",
     "output_type": "stream",
     "text": [
      "GPU available: False, used: False\n",
      "TPU available: False, using: 0 TPU cores\n",
      "IPU available: False, using: 0 IPUs\n",
      "HPU available: False, using: 0 HPUs\n",
      "\n",
      "  | Name           | Type       | Params\n",
      "----------------------------------------------\n",
      "0 | pytorch_module | Sequential | 47    \n",
      "1 | loss_func      | MSELoss    | 0     \n",
      "----------------------------------------------\n",
      "47        Trainable params\n",
      "0         Non-trainable params\n",
      "47        Total params\n",
      "0.000     Total estimated model params size (MB)\n",
      "[I 2024-03-18 17:29:26,042] Trial 11 pruned. Trial was pruned at epoch 1.\n"
     ]
    },
    {
     "name": "stdout",
     "output_type": "stream",
     "text": [
      "Trial 11 pruned. Trial was pruned at epoch 1.\n",
      "Trial 11 pruned. Trial was pruned at epoch 1.\n",
      "Trial 11 pruned. Trial was pruned at epoch 1.\n",
      "Trial 11 pruned. Trial was pruned at epoch 1.\n",
      "Trial 11 pruned. Trial was pruned at epoch 1.\n"
     ]
    },
    {
     "name": "stderr",
     "output_type": "stream",
     "text": [
      "GPU available: False, used: False\n",
      "TPU available: False, using: 0 TPU cores\n",
      "IPU available: False, using: 0 IPUs\n",
      "HPU available: False, using: 0 HPUs\n",
      "\n",
      "  | Name           | Type       | Params\n",
      "----------------------------------------------\n",
      "0 | pytorch_module | Sequential | 30    \n",
      "1 | loss_func      | MSELoss    | 0     \n",
      "----------------------------------------------\n",
      "30        Trainable params\n",
      "0         Non-trainable params\n",
      "30        Total params\n",
      "0.000     Total estimated model params size (MB)\n",
      "`Trainer.fit` stopped: `max_epochs=3` reached.\n",
      "[I 2024-03-18 17:29:35,725] Trial 12 finished with value: 0.6100358366966248 and parameters: {'batch_size': 256, 'n_conv_layers': 1, 'batch_norm_conv': True, 'pool_type': 'avg', 'n_channels1': 64, 'kernel_size1': 5, 'padding1': 0, 'pool_kernel_size1': 7, 'pool_padding1': 1, 'n_dense_layers': 2, 'batch_norm_dense': True, 'dense_layer_size1': 73, 'dense_layer_size2': 29, 'lr': 0.012006902361893706, 'weight_decay': 6.915602037353307e-06, 'plateau_factor': 0.6308578835598188}. Best is trial 3 with value: 0.48389559984207153.\n"
     ]
    },
    {
     "name": "stdout",
     "output_type": "stream",
     "text": [
      "Trial 12 finished with value: 0.6100358366966248 and parameters: {'batch_size': 256, 'n_conv_layers': 1, 'batch_norm_conv': True, 'pool_type': 'avg', 'n_channels1': 64, 'kernel_size1': 5, 'padding1': 0, 'pool_kernel_size1': 7, 'pool_padding1': 1, 'n_dense_layers': 2, 'batch_norm_dense': True, 'dense_layer_size1': 73, 'dense_layer_size2': 29, 'lr': 0.012006902361893706, 'weight_decay': 6.915602037353307e-06, 'plateau_factor': 0.6308578835598188}. Best is trial 3 with value: 0.48389559984207153.\n",
      "Trial 12 finished with value: 0.6100358366966248 and parameters: {'batch_size': 256, 'n_conv_layers': 1, 'batch_norm_conv': True, 'pool_type': 'avg', 'n_channels1': 64, 'kernel_size1': 5, 'padding1': 0, 'pool_kernel_size1': 7, 'pool_padding1': 1, 'n_dense_layers': 2, 'batch_norm_dense': True, 'dense_layer_size1': 73, 'dense_layer_size2': 29, 'lr': 0.012006902361893706, 'weight_decay': 6.915602037353307e-06, 'plateau_factor': 0.6308578835598188}. Best is trial 3 with value: 0.48389559984207153.\n",
      "Trial 12 finished with value: 0.6100358366966248 and parameters: {'batch_size': 256, 'n_conv_layers': 1, 'batch_norm_conv': True, 'pool_type': 'avg', 'n_channels1': 64, 'kernel_size1': 5, 'padding1': 0, 'pool_kernel_size1': 7, 'pool_padding1': 1, 'n_dense_layers': 2, 'batch_norm_dense': True, 'dense_layer_size1': 73, 'dense_layer_size2': 29, 'lr': 0.012006902361893706, 'weight_decay': 6.915602037353307e-06, 'plateau_factor': 0.6308578835598188}. Best is trial 3 with value: 0.48389559984207153.\n",
      "Trial 12 finished with value: 0.6100358366966248 and parameters: {'batch_size': 256, 'n_conv_layers': 1, 'batch_norm_conv': True, 'pool_type': 'avg', 'n_channels1': 64, 'kernel_size1': 5, 'padding1': 0, 'pool_kernel_size1': 7, 'pool_padding1': 1, 'n_dense_layers': 2, 'batch_norm_dense': True, 'dense_layer_size1': 73, 'dense_layer_size2': 29, 'lr': 0.012006902361893706, 'weight_decay': 6.915602037353307e-06, 'plateau_factor': 0.6308578835598188}. Best is trial 3 with value: 0.48389559984207153.\n",
      "Trial 12 finished with value: 0.6100358366966248 and parameters: {'batch_size': 256, 'n_conv_layers': 1, 'batch_norm_conv': True, 'pool_type': 'avg', 'n_channels1': 64, 'kernel_size1': 5, 'padding1': 0, 'pool_kernel_size1': 7, 'pool_padding1': 1, 'n_dense_layers': 2, 'batch_norm_dense': True, 'dense_layer_size1': 73, 'dense_layer_size2': 29, 'lr': 0.012006902361893706, 'weight_decay': 6.915602037353307e-06, 'plateau_factor': 0.6308578835598188}. Best is trial 3 with value: 0.48389559984207153.\n"
     ]
    },
    {
     "name": "stderr",
     "output_type": "stream",
     "text": [
      "GPU available: False, used: False\n",
      "TPU available: False, using: 0 TPU cores\n",
      "IPU available: False, using: 0 IPUs\n",
      "HPU available: False, using: 0 HPUs\n",
      "\n",
      "  | Name           | Type       | Params\n",
      "----------------------------------------------\n",
      "0 | pytorch_module | Sequential | 2     \n",
      "1 | loss_func      | MSELoss    | 0     \n",
      "----------------------------------------------\n",
      "2         Trainable params\n",
      "0         Non-trainable params\n",
      "2         Total params\n",
      "0.000     Total estimated model params size (MB)\n",
      "[I 2024-03-18 17:29:50,119] Trial 13 pruned. Trial was pruned at epoch 1.\n"
     ]
    },
    {
     "name": "stdout",
     "output_type": "stream",
     "text": [
      "Trial 13 pruned. Trial was pruned at epoch 1.\n",
      "Trial 13 pruned. Trial was pruned at epoch 1.\n",
      "Trial 13 pruned. Trial was pruned at epoch 1.\n",
      "Trial 13 pruned. Trial was pruned at epoch 1.\n",
      "Trial 13 pruned. Trial was pruned at epoch 1.\n"
     ]
    },
    {
     "name": "stderr",
     "output_type": "stream",
     "text": [
      "GPU available: False, used: False\n",
      "TPU available: False, using: 0 TPU cores\n",
      "IPU available: False, using: 0 IPUs\n",
      "HPU available: False, using: 0 HPUs\n",
      "\n",
      "  | Name           | Type       | Params\n",
      "----------------------------------------------\n",
      "0 | pytorch_module | Sequential | 7     \n",
      "1 | loss_func      | MSELoss    | 0     \n",
      "----------------------------------------------\n",
      "7         Trainable params\n",
      "0         Non-trainable params\n",
      "7         Total params\n",
      "0.000     Total estimated model params size (MB)\n",
      "`Trainer.fit` stopped: `max_epochs=3` reached.\n",
      "[I 2024-03-18 17:30:05,337] Trial 14 finished with value: 0.5053030848503113 and parameters: {'batch_size': 32, 'n_conv_layers': 1, 'batch_norm_conv': True, 'pool_type': 'max', 'n_channels1': 16, 'kernel_size1': 8, 'padding1': 1, 'pool_kernel_size1': 5, 'pool_padding1': 2, 'n_dense_layers': 2, 'batch_norm_dense': False, 'dense_layer_size1': 11, 'dense_layer_size2': 6, 'lr': 0.07452570847977723, 'weight_decay': 7.738394439451061e-06, 'plateau_factor': 0.026291166723347525}. Best is trial 3 with value: 0.48389559984207153.\n"
     ]
    },
    {
     "name": "stdout",
     "output_type": "stream",
     "text": [
      "Trial 14 finished with value: 0.5053030848503113 and parameters: {'batch_size': 32, 'n_conv_layers': 1, 'batch_norm_conv': True, 'pool_type': 'max', 'n_channels1': 16, 'kernel_size1': 8, 'padding1': 1, 'pool_kernel_size1': 5, 'pool_padding1': 2, 'n_dense_layers': 2, 'batch_norm_dense': False, 'dense_layer_size1': 11, 'dense_layer_size2': 6, 'lr': 0.07452570847977723, 'weight_decay': 7.738394439451061e-06, 'plateau_factor': 0.026291166723347525}. Best is trial 3 with value: 0.48389559984207153.\n",
      "Trial 14 finished with value: 0.5053030848503113 and parameters: {'batch_size': 32, 'n_conv_layers': 1, 'batch_norm_conv': True, 'pool_type': 'max', 'n_channels1': 16, 'kernel_size1': 8, 'padding1': 1, 'pool_kernel_size1': 5, 'pool_padding1': 2, 'n_dense_layers': 2, 'batch_norm_dense': False, 'dense_layer_size1': 11, 'dense_layer_size2': 6, 'lr': 0.07452570847977723, 'weight_decay': 7.738394439451061e-06, 'plateau_factor': 0.026291166723347525}. Best is trial 3 with value: 0.48389559984207153.\n",
      "Trial 14 finished with value: 0.5053030848503113 and parameters: {'batch_size': 32, 'n_conv_layers': 1, 'batch_norm_conv': True, 'pool_type': 'max', 'n_channels1': 16, 'kernel_size1': 8, 'padding1': 1, 'pool_kernel_size1': 5, 'pool_padding1': 2, 'n_dense_layers': 2, 'batch_norm_dense': False, 'dense_layer_size1': 11, 'dense_layer_size2': 6, 'lr': 0.07452570847977723, 'weight_decay': 7.738394439451061e-06, 'plateau_factor': 0.026291166723347525}. Best is trial 3 with value: 0.48389559984207153.\n",
      "Trial 14 finished with value: 0.5053030848503113 and parameters: {'batch_size': 32, 'n_conv_layers': 1, 'batch_norm_conv': True, 'pool_type': 'max', 'n_channels1': 16, 'kernel_size1': 8, 'padding1': 1, 'pool_kernel_size1': 5, 'pool_padding1': 2, 'n_dense_layers': 2, 'batch_norm_dense': False, 'dense_layer_size1': 11, 'dense_layer_size2': 6, 'lr': 0.07452570847977723, 'weight_decay': 7.738394439451061e-06, 'plateau_factor': 0.026291166723347525}. Best is trial 3 with value: 0.48389559984207153.\n",
      "Trial 14 finished with value: 0.5053030848503113 and parameters: {'batch_size': 32, 'n_conv_layers': 1, 'batch_norm_conv': True, 'pool_type': 'max', 'n_channels1': 16, 'kernel_size1': 8, 'padding1': 1, 'pool_kernel_size1': 5, 'pool_padding1': 2, 'n_dense_layers': 2, 'batch_norm_dense': False, 'dense_layer_size1': 11, 'dense_layer_size2': 6, 'lr': 0.07452570847977723, 'weight_decay': 7.738394439451061e-06, 'plateau_factor': 0.026291166723347525}. Best is trial 3 with value: 0.48389559984207153.\n"
     ]
    }
   ],
   "source": [
    "pruner = optuna.pruners.HyperbandPruner()\n",
    "\n",
    "import logging\n",
    "import sys\n",
    "\n",
    "# Add stream handler of stdout to show the messages\n",
    "optuna.logging.get_logger(\"optuna\").addHandler(logging.StreamHandler(sys.stdout))\n",
    "study_name = dir  # Unique identifier of the study.\n",
    "storage_name = \"sqlite:///CNN1D_no/{}.db\".format(study_name)\n",
    "study = optuna.create_study(study_name=study_name, storage=storage_name,\n",
    "                            direction=\"minimize\", pruner=pruner)\n",
    "\n",
    "study.optimize(objective, n_trials=15, timeout=1800)"
   ]
  }
 ],
 "metadata": {
  "kernelspec": {
   "display_name": "Acnodnem-Ailiram",
   "language": "python",
   "name": "python3"
  },
  "language_info": {
   "codemirror_mode": {
    "name": "ipython",
    "version": 3
   },
   "file_extension": ".py",
   "mimetype": "text/x-python",
   "name": "python",
   "nbconvert_exporter": "python",
   "pygments_lexer": "ipython3",
   "version": "3.12.2"
  }
 },
 "nbformat": 4,
 "nbformat_minor": 2
}
